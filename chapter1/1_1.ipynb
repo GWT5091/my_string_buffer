{
 "cells": [
  {
   "cell_type": "code",
   "execution_count": 1,
   "metadata": {},
   "outputs": [
    {
     "name": "stdout",
     "output_type": "stream",
     "text": [
      "OK!\n"
     ]
    }
   ],
   "source": [
    "#!/usr/bin/env python\n",
    "# coding: utf-8\n",
    "\n",
    "import time\n",
    "import chardet\n",
    "\n",
    "#module\n",
    "def is_unique_chars2(str_obj:str)->bool:\n",
    "    \"\"\"\n",
    "    input:String(ASCII)\n",
    "    output:Bool\n",
    "    This module determine a unique string.\n",
    "    \"\"\"\n",
    "    if chardet.detect(str_obj)['encoding'] != 'ascii':\n",
    "        return False\n",
    "    \n",
    "    bool_list = [False]*256\n",
    "    for i in str_obj:\n",
    "        if bool_list[i] == True:\n",
    "            return False\n",
    "        bool_list[i] = True\n",
    "    return True\n",
    "\n",
    "#test\n",
    "def is_unique_chars2_test():\n",
    "    #False\n",
    "    test1 = 'jis-26000'.encode('utf-8')\n",
    "    test2 = 'あいうえおabc'.encode('utf-8')\n",
    "    #True\n",
    "    test3 = 'abcdef'.encode('utf-8')\n",
    "    if is_unique_chars2(test1) == True:\n",
    "        return exit()\n",
    "    if is_unique_chars2(test2) == True:\n",
    "        return exit()\n",
    "    if is_unique_chars2(test3) == False:\n",
    "        return exit()\n",
    "    print(\"OK!\")\n",
    "    \n",
    "is_unique_chars2_test()"
   ]
  },
  {
   "cell_type": "code",
   "execution_count": null,
   "metadata": {},
   "outputs": [],
   "source": []
  }
 ],
 "metadata": {
  "kernelspec": {
   "display_name": "Python 3",
   "language": "python",
   "name": "python3"
  },
  "language_info": {
   "codemirror_mode": {
    "name": "ipython",
    "version": 3
   },
   "file_extension": ".py",
   "mimetype": "text/x-python",
   "name": "python",
   "nbconvert_exporter": "python",
   "pygments_lexer": "ipython3",
   "version": "3.7.3"
  }
 },
 "nbformat": 4,
 "nbformat_minor": 2
}
