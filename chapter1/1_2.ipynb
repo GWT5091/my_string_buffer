{
 "cells": [
  {
   "cell_type": "code",
   "execution_count": 8,
   "metadata": {},
   "outputs": [
    {
     "name": "stdout",
     "output_type": "stream",
     "text": [
      "asu\n"
     ]
    }
   ],
   "source": [
    "def reverse_string(test_str):\n",
    "    reverse_str = ''\n",
    "    for i in range(len(test_str),0,-1):\n",
    "        reverse_str = reverse_str + test_str[i-1]\n",
    "    print(reverse_str)\n",
    "\n",
    "reverse_string('usa')"
   ]
  },
  {
   "cell_type": "code",
   "execution_count": null,
   "metadata": {},
   "outputs": [],
   "source": []
  }
 ],
 "metadata": {
  "kernelspec": {
   "display_name": "Python 3",
   "language": "python",
   "name": "python3"
  },
  "language_info": {
   "codemirror_mode": {
    "name": "ipython",
    "version": 3
   },
   "file_extension": ".py",
   "mimetype": "text/x-python",
   "name": "python",
   "nbconvert_exporter": "python",
   "pygments_lexer": "ipython3",
   "version": "3.7.3"
  }
 },
 "nbformat": 4,
 "nbformat_minor": 2
}
